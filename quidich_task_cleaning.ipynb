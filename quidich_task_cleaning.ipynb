{
  "cells": [
    {
      "cell_type": "code",
      "execution_count": null,
      "metadata": {
        "colab": {
          "base_uri": "https://localhost:8080/"
        },
        "id": "2un0aRLUWjZl",
        "outputId": "d5ca2da4-aa1d-410e-fa0d-c6cd2a4177fb"
      },
      "outputs": [
        {
          "name": "stdout",
          "output_type": "stream",
          "text": [
            "Drive already mounted at /content/drive; to attempt to forcibly remount, call drive.mount(\"/content/drive\", force_remount=True).\n"
          ]
        }
      ],
      "source": [
        "from google.colab import drive\n",
        "drive.mount('/content/drive')"
      ]
    },
    {
      "cell_type": "code",
      "execution_count": null,
      "metadata": {
        "collapsed": true,
        "id": "KoF5o7f1WyOj"
      },
      "outputs": [],
      "source": [
        "# !pip install gdown\n",
        "# !gdown --id 1vgGKUydb7qb1hnoq6hCviHa0wLyIgD9y -O \"/content/drive/My Drive/Quidich Task/dataset.zip\""
      ]
    },
    {
      "cell_type": "code",
      "execution_count": null,
      "metadata": {
        "collapsed": true,
        "id": "M63erZt-W41j"
      },
      "outputs": [],
      "source": [
        "# !unzip \"/content/drive/My Drive/Quidich Task/dataset.zip\" -d \"/content/drive/My Drive/Quidich Task/contaminated_dataset\""
      ]
    },
    {
      "cell_type": "code",
      "execution_count": null,
      "metadata": {
        "id": "DHxbT0_PXRmE"
      },
      "outputs": [],
      "source": [
        "# !git clone https://github.com/ArgoHA/custom_d_fine.git \"/content/drive/My Drive/Quidich Task/custom_d_fine\""
      ]
    },
    {
      "cell_type": "code",
      "execution_count": null,
      "metadata": {
        "colab": {
          "base_uri": "https://localhost:8080/"
        },
        "collapsed": true,
        "id": "mQeWrqIHXo8M",
        "outputId": "3b6a55bc-4a42-4321-d940-43f5fcc75b1b"
      },
      "outputs": [
        {
          "name": "stdout",
          "output_type": "stream",
          "text": [
            "Collecting hydra-core\n",
            "  Downloading hydra_core-1.3.2-py3-none-any.whl.metadata (5.5 kB)\n",
            "Collecting loguru\n",
            "  Downloading loguru-0.7.3-py3-none-any.whl.metadata (22 kB)\n",
            "Requirement already satisfied: omegaconf in /usr/local/lib/python3.11/dist-packages (2.3.0)\n",
            "Requirement already satisfied: tqdm in /usr/local/lib/python3.11/dist-packages (4.67.1)\n",
            "Collecting pypdfium2\n",
            "  Downloading pypdfium2-4.30.1-py3-none-manylinux_2_17_x86_64.manylinux2014_x86_64.whl.metadata (48 kB)\n",
            "\u001b[2K     \u001b[90m━━━━━━━━━━━━━━━━━━━━━━━━━━━━━━━━━━━━━━━━\u001b[0m \u001b[32m48.2/48.2 kB\u001b[0m \u001b[31m3.1 MB/s\u001b[0m eta \u001b[36m0:00:00\u001b[0m\n",
            "\u001b[?25hCollecting pillow-heif\n",
            "  Downloading pillow_heif-0.22.0-cp311-cp311-manylinux_2_17_x86_64.manylinux2014_x86_64.whl.metadata (9.6 kB)\n",
            "Requirement already satisfied: antlr4-python3-runtime==4.9.* in /usr/local/lib/python3.11/dist-packages (from hydra-core) (4.9.3)\n",
            "Requirement already satisfied: packaging in /usr/local/lib/python3.11/dist-packages (from hydra-core) (24.2)\n",
            "Requirement already satisfied: PyYAML>=5.1.0 in /usr/local/lib/python3.11/dist-packages (from omegaconf) (6.0.2)\n",
            "Requirement already satisfied: pillow>=10.1.0 in /usr/local/lib/python3.11/dist-packages (from pillow-heif) (11.2.1)\n",
            "Downloading hydra_core-1.3.2-py3-none-any.whl (154 kB)\n",
            "\u001b[2K   \u001b[90m━━━━━━━━━━━━━━━━━━━━━━━━━━━━━━━━━━━━━━━━\u001b[0m \u001b[32m154.5/154.5 kB\u001b[0m \u001b[31m8.8 MB/s\u001b[0m eta \u001b[36m0:00:00\u001b[0m\n",
            "\u001b[?25hDownloading loguru-0.7.3-py3-none-any.whl (61 kB)\n",
            "\u001b[2K   \u001b[90m━━━━━━━━━━━━━━━━━━━━━━━━━━━━━━━━━━━━━━━━\u001b[0m \u001b[32m61.6/61.6 kB\u001b[0m \u001b[31m5.7 MB/s\u001b[0m eta \u001b[36m0:00:00\u001b[0m\n",
            "\u001b[?25hDownloading pypdfium2-4.30.1-py3-none-manylinux_2_17_x86_64.manylinux2014_x86_64.whl (2.9 MB)\n",
            "\u001b[2K   \u001b[90m━━━━━━━━━━━━━━━━━━━━━━━━━━━━━━━━━━━━━━━━\u001b[0m \u001b[32m2.9/2.9 MB\u001b[0m \u001b[31m56.1 MB/s\u001b[0m eta \u001b[36m0:00:00\u001b[0m\n",
            "\u001b[?25hDownloading pillow_heif-0.22.0-cp311-cp311-manylinux_2_17_x86_64.manylinux2014_x86_64.whl (7.8 MB)\n",
            "\u001b[2K   \u001b[90m━━━━━━━━━━━━━━━━━━━━━━━━━━━━━━━━━━━━━━━━\u001b[0m \u001b[32m7.8/7.8 MB\u001b[0m \u001b[31m84.3 MB/s\u001b[0m eta \u001b[36m0:00:00\u001b[0m\n",
            "\u001b[?25hInstalling collected packages: pypdfium2, pillow-heif, loguru, hydra-core\n",
            "Successfully installed hydra-core-1.3.2 loguru-0.7.3 pillow-heif-0.22.0 pypdfium2-4.30.1\n"
          ]
        }
      ],
      "source": [
        "!pip install hydra-core loguru omegaconf tqdm pypdfium2 pillow-heif"
      ]
    },
    {
      "cell_type": "code",
      "execution_count": null,
      "metadata": {
        "colab": {
          "base_uri": "https://localhost:8080/"
        },
        "id": "IEnNwYLTXtIL",
        "outputId": "c9de8d4a-dbc9-4f96-d40c-39863613e9ce"
      },
      "outputs": [
        {
          "name": "stdout",
          "output_type": "stream",
          "text": [
            "/content/drive/MyDrive/Quidich Task/custom_d_fine\n"
          ]
        }
      ],
      "source": [
        "%cd \"/content/drive/MyDrive/Quidich Task/custom_d_fine\""
      ]
    },
    {
      "cell_type": "code",
      "execution_count": null,
      "metadata": {
        "colab": {
          "base_uri": "https://localhost:8080/"
        },
        "id": "UxRXVki1YIUk",
        "outputId": "04fe2940-4000-4f8c-a5a5-7a196df642d8"
      },
      "outputs": [
        {
          "name": "stdout",
          "output_type": "stream",
          "text": [
            "\u001b[32m2025-06-18 14:29:10.275\u001b[0m | \u001b[1mINFO    \u001b[0m | \u001b[36msrc.infer.torch_model\u001b[0m:\u001b[36m_load_model\u001b[0m:\u001b[36m74\u001b[0m - \u001b[1mTorch model, Device: cuda, AMP: False\u001b[0m\n",
            "\u001b[32m2025-06-18 14:29:27.755\u001b[0m | \u001b[1mINFO    \u001b[0m | \u001b[36m__main__\u001b[0m:\u001b[36mfigure_input_type\u001b[0m:\u001b[36m26\u001b[0m - \u001b[1mInferencing on data type: image, path: /content/drive/MyDrive/Quidich Task/contaminated_dataset/contaminated_classifier_data/background\u001b[0m\n",
            "100% 4549/4549 [06:58<00:00, 10.88it/s]\n"
          ]
        }
      ],
      "source": [
        "!python -m src.dl.infer exp_name=football_background_cleaning_01"
      ]
    },
    {
      "cell_type": "code",
      "execution_count": null,
      "metadata": {
        "colab": {
          "base_uri": "https://localhost:8080/"
        },
        "id": "I-Xe4CASYLuL",
        "outputId": "7512ca50-c950-46b0-aec3-989c4af35ede"
      },
      "outputs": [
        {
          "name": "stdout",
          "output_type": "stream",
          "text": [
            "1373\n"
          ]
        }
      ],
      "source": [
        "!ls -l \"/content/drive/MyDrive/Quidich Task/output/infer/football_background_cleaning_01_2025-06-18_2025-06-18/classified/images\" | grep -c .jpg"
      ]
    },
    {
      "cell_type": "code",
      "execution_count": null,
      "metadata": {
        "colab": {
          "base_uri": "https://localhost:8080/"
        },
        "collapsed": true,
        "id": "3eYli0gGd-kt",
        "outputId": "26367eae-2792-4806-bdc5-d061ab9b721d"
      },
      "outputs": [],
      "source": [
        "import os\n",
        "import shutil\n",
        "from pathlib import Path\n",
        "\n",
        "football_dir = \"/content/drive/MyDrive/Quidich Task/contaminated_dataset/contaminated_classifier_data/football\"\n",
        "background_dir = \"/content/drive/MyDrive/Quidich Task/contaminated_dataset/contaminated_classifier_data/background\"\n",
        "detected_images_dir = \"/content/drive/MyDrive/Quidich Task/output/infer/football_background_cleaning_01_2025-06-18_2025-06-18/classified/images\"\n",
        "output_dir = \"/content/drive/MyDrive/Quidich Task/cleaned_dataset\"\n",
        "cleaned_football_dir = os.path.join(output_dir, \"cleaned_football\")\n",
        "cleaned_background_dir = os.path.join(output_dir, \"cleaned_background\")\n",
        "\n",
        "os.makedirs(cleaned_football_dir, exist_ok=True)\n",
        "os.makedirs(cleaned_background_dir, exist_ok=True)\n",
        "\n",
        "detected_filenames = {os.path.basename(f) for f in os.listdir(detected_images_dir) if f.endswith('.jpg')}\n",
        "\n",
        "football_count = 0\n",
        "for img_file in os.listdir(football_dir):\n",
        "    if img_file.endswith('.jpg'):\n",
        "        src_path = os.path.join(football_dir, img_file)\n",
        "        dst_path = os.path.join(cleaned_football_dir, img_file)\n",
        "        print(f\"Attempting to copy: {src_path} to {dst_path}\")\n",
        "        if os.path.exists(src_path):\n",
        "            shutil.copy(src_path, dst_path)\n",
        "            football_count += 1\n",
        "        else:\n",
        "            print(f\"Skipping missing file: {src_path}\")\n",
        "\n",
        "moved_count = 0\n",
        "for img_file in os.listdir(background_dir):\n",
        "    if img_file.endswith('.jpg'):\n",
        "        src_path = os.path.join(background_dir, img_file)\n",
        "        if img_file in detected_filenames:\n",
        "            dst_path = os.path.join(cleaned_football_dir, img_file)\n",
        "            shutil.copy(src_path, dst_path)\n",
        "            moved_count += 1\n",
        "        else:\n",
        "            dst_path = os.path.join(cleaned_background_dir, img_file)\n",
        "            shutil.copy(src_path, dst_path)\n",
        "\n",
        "print(f\"Copied {football_count} original football images and {moved_count} misclassified images to cleaned_football/.\")\n",
        "print(f\"Copied {len(os.listdir(background_dir)) - moved_count} images to cleaned_background/.\")"
      ]
    },
    {
      "cell_type": "code",
      "execution_count": null,
      "metadata": {
        "colab": {
          "base_uri": "https://localhost:8080/"
        },
        "id": "1QULxvt3fTj1",
        "outputId": "896d9e52-738c-435c-d7a3-788f43fa179d"
      },
      "outputs": [
        {
          "name": "stdout",
          "output_type": "stream",
          "text": [
            "5103\n",
            "3176\n"
          ]
        }
      ],
      "source": [
        "!ls -l \"/content/drive/MyDrive/Quidich Task/cleaned_dataset/cleaned_football\" | grep -c .jpg\n",
        "!ls -l \"/content/drive/MyDrive/Quidich Task/cleaned_dataset/cleaned_background\" | grep -c .jpg"
      ]
    }
  ],
  "metadata": {
    "accelerator": "GPU",
    "colab": {
      "gpuType": "T4",
      "provenance": []
    },
    "kernelspec": {
      "display_name": "Python 3",
      "name": "python3"
    },
    "language_info": {
      "name": "python"
    }
  },
  "nbformat": 4,
  "nbformat_minor": 0
}
